{
 "cells": [
  {
   "cell_type": "code",
   "execution_count": 2,
   "id": "ddf7bcc7",
   "metadata": {},
   "outputs": [],
   "source": [
    "import pandas as pd"
   ]
  },
  {
   "cell_type": "code",
   "execution_count": 3,
   "id": "c9b5eb87",
   "metadata": {},
   "outputs": [],
   "source": [
    "df = pd.read_csv('/Users/harshit/Downloads/Research-Commons-Quant/automated-memetoken-index-pipeline/monthly_backtest_metrics.csv')"
   ]
  },
  {
   "cell_type": "code",
   "execution_count": 4,
   "id": "450170d3",
   "metadata": {},
   "outputs": [
    {
     "data": {
      "text/html": [
       "<div>\n",
       "<style scoped>\n",
       "    .dataframe tbody tr th:only-of-type {\n",
       "        vertical-align: middle;\n",
       "    }\n",
       "\n",
       "    .dataframe tbody tr th {\n",
       "        vertical-align: top;\n",
       "    }\n",
       "\n",
       "    .dataframe thead th {\n",
       "        text-align: right;\n",
       "    }\n",
       "</style>\n",
       "<table border=\"1\" class=\"dataframe\">\n",
       "  <thead>\n",
       "    <tr style=\"text-align: right;\">\n",
       "      <th></th>\n",
       "      <th>Month</th>\n",
       "      <th>Bias</th>\n",
       "      <th>Total Return</th>\n",
       "      <th>Annualized Return</th>\n",
       "      <th>Sharpe Ratio</th>\n",
       "      <th>Max Drawdown</th>\n",
       "    </tr>\n",
       "  </thead>\n",
       "  <tbody>\n",
       "    <tr>\n",
       "      <th>0</th>\n",
       "      <td>nov_23</td>\n",
       "      <td>Lookahead Bias</td>\n",
       "      <td>-0.518819</td>\n",
       "      <td>-9.998997e-01</td>\n",
       "      <td>2.902656</td>\n",
       "      <td>-0.948785</td>\n",
       "    </tr>\n",
       "    <tr>\n",
       "      <th>1</th>\n",
       "      <td>nov_23</td>\n",
       "      <td>No Lookahead Bias</td>\n",
       "      <td>-0.430719</td>\n",
       "      <td>-9.991673e-01</td>\n",
       "      <td>-1.679706</td>\n",
       "      <td>-0.721828</td>\n",
       "    </tr>\n",
       "    <tr>\n",
       "      <th>2</th>\n",
       "      <td>oct_23</td>\n",
       "      <td>Lookahead Bias</td>\n",
       "      <td>16.370937</td>\n",
       "      <td>4.024128e+15</td>\n",
       "      <td>10.312005</td>\n",
       "      <td>-0.173662</td>\n",
       "    </tr>\n",
       "    <tr>\n",
       "      <th>3</th>\n",
       "      <td>oct_23</td>\n",
       "      <td>No Lookahead Bias</td>\n",
       "      <td>0.711771</td>\n",
       "      <td>8.663511e+02</td>\n",
       "      <td>4.552103</td>\n",
       "      <td>-0.249848</td>\n",
       "    </tr>\n",
       "  </tbody>\n",
       "</table>\n",
       "</div>"
      ],
      "text/plain": [
       "    Month               Bias  Total Return  Annualized Return  Sharpe Ratio  \\\n",
       "0  nov_23     Lookahead Bias     -0.518819      -9.998997e-01      2.902656   \n",
       "1  nov_23  No Lookahead Bias     -0.430719      -9.991673e-01     -1.679706   \n",
       "2  oct_23     Lookahead Bias     16.370937       4.024128e+15     10.312005   \n",
       "3  oct_23  No Lookahead Bias      0.711771       8.663511e+02      4.552103   \n",
       "\n",
       "   Max Drawdown  \n",
       "0     -0.948785  \n",
       "1     -0.721828  \n",
       "2     -0.173662  \n",
       "3     -0.249848  "
      ]
     },
     "execution_count": 4,
     "metadata": {},
     "output_type": "execute_result"
    }
   ],
   "source": [
    "df"
   ]
  },
  {
   "cell_type": "code",
   "execution_count": null,
   "id": "2b5d2999",
   "metadata": {},
   "outputs": [],
   "source": []
  }
 ],
 "metadata": {
  "kernelspec": {
   "display_name": "base",
   "language": "python",
   "name": "python3"
  },
  "language_info": {
   "codemirror_mode": {
    "name": "ipython",
    "version": 3
   },
   "file_extension": ".py",
   "mimetype": "text/x-python",
   "name": "python",
   "nbconvert_exporter": "python",
   "pygments_lexer": "ipython3",
   "version": "3.12.4"
  }
 },
 "nbformat": 4,
 "nbformat_minor": 5
}
