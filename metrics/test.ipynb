{
 "cells": [
  {
   "cell_type": "code",
   "execution_count": 2,
   "id": "ddf7bcc7",
   "metadata": {},
   "outputs": [],
   "source": [
    "import pandas as pd"
   ]
  },
  {
   "cell_type": "code",
   "execution_count": 3,
   "id": "c9b5eb87",
   "metadata": {},
   "outputs": [],
   "source": [
    "df = pd.read_csv('/Users/harshit/Downloads/Research-Commons-Quant/automated-memetoken-index-pipeline/dataframes/may25/RATO.csv')"
   ]
  },
  {
   "cell_type": "code",
   "execution_count": 6,
   "id": "450170d3",
   "metadata": {},
   "outputs": [
    {
     "data": {
      "text/html": [
       "<div>\n",
       "<style scoped>\n",
       "    .dataframe tbody tr th:only-of-type {\n",
       "        vertical-align: middle;\n",
       "    }\n",
       "\n",
       "    .dataframe tbody tr th {\n",
       "        vertical-align: top;\n",
       "    }\n",
       "\n",
       "    .dataframe thead th {\n",
       "        text-align: right;\n",
       "    }\n",
       "</style>\n",
       "<table border=\"1\" class=\"dataframe\">\n",
       "  <thead>\n",
       "    <tr style=\"text-align: right;\">\n",
       "      <th></th>\n",
       "      <th>timestamp</th>\n",
       "      <th>open</th>\n",
       "      <th>high</th>\n",
       "      <th>low</th>\n",
       "      <th>close</th>\n",
       "      <th>volume</th>\n",
       "      <th>trades</th>\n",
       "      <th>return</th>\n",
       "      <th>log_return</th>\n",
       "      <th>cumulative_return</th>\n",
       "      <th>sharpe_ratio</th>\n",
       "      <th>cum_max</th>\n",
       "      <th>drawdown</th>\n",
       "      <th>turnover</th>\n",
       "    </tr>\n",
       "  </thead>\n",
       "  <tbody>\n",
       "    <tr>\n",
       "      <th>0</th>\n",
       "      <td>2025-06-03 00:00:00+00:00</td>\n",
       "      <td>0.000011</td>\n",
       "      <td>0.000013</td>\n",
       "      <td>0.000009</td>\n",
       "      <td>0.000011</td>\n",
       "      <td>6.366919e+05</td>\n",
       "      <td>846</td>\n",
       "      <td>0.349073</td>\n",
       "      <td>0.299418</td>\n",
       "      <td>0.349073</td>\n",
       "      <td>2.180474</td>\n",
       "      <td>0.000011</td>\n",
       "      <td>0.000000</td>\n",
       "      <td>5.980594e+10</td>\n",
       "    </tr>\n",
       "    <tr>\n",
       "      <th>1</th>\n",
       "      <td>2025-06-02 00:00:00+00:00</td>\n",
       "      <td>0.000010</td>\n",
       "      <td>0.000010</td>\n",
       "      <td>0.000008</td>\n",
       "      <td>0.000010</td>\n",
       "      <td>8.964993e+05</td>\n",
       "      <td>1061</td>\n",
       "      <td>-0.100059</td>\n",
       "      <td>-0.105426</td>\n",
       "      <td>0.214086</td>\n",
       "      <td>2.180474</td>\n",
       "      <td>0.000011</td>\n",
       "      <td>-0.100059</td>\n",
       "      <td>9.357307e+10</td>\n",
       "    </tr>\n",
       "    <tr>\n",
       "      <th>2</th>\n",
       "      <td>2025-06-01 00:00:00+00:00</td>\n",
       "      <td>0.000009</td>\n",
       "      <td>0.000011</td>\n",
       "      <td>0.000008</td>\n",
       "      <td>0.000009</td>\n",
       "      <td>8.541279e+05</td>\n",
       "      <td>1111</td>\n",
       "      <td>-0.028473</td>\n",
       "      <td>-0.028886</td>\n",
       "      <td>0.179518</td>\n",
       "      <td>2.180474</td>\n",
       "      <td>0.000011</td>\n",
       "      <td>-0.125683</td>\n",
       "      <td>9.176329e+10</td>\n",
       "    </tr>\n",
       "    <tr>\n",
       "      <th>3</th>\n",
       "      <td>2025-05-31 00:00:00+00:00</td>\n",
       "      <td>0.000008</td>\n",
       "      <td>0.000010</td>\n",
       "      <td>0.000008</td>\n",
       "      <td>0.000008</td>\n",
       "      <td>7.953648e+05</td>\n",
       "      <td>1057</td>\n",
       "      <td>-0.114713</td>\n",
       "      <td>-0.121844</td>\n",
       "      <td>0.044211</td>\n",
       "      <td>2.180474</td>\n",
       "      <td>0.000011</td>\n",
       "      <td>-0.225979</td>\n",
       "      <td>9.652249e+10</td>\n",
       "    </tr>\n",
       "    <tr>\n",
       "      <th>4</th>\n",
       "      <td>2025-05-30 00:00:00+00:00</td>\n",
       "      <td>0.000011</td>\n",
       "      <td>0.000014</td>\n",
       "      <td>0.000010</td>\n",
       "      <td>0.000010</td>\n",
       "      <td>1.030002e+06</td>\n",
       "      <td>1136</td>\n",
       "      <td>0.223450</td>\n",
       "      <td>0.201675</td>\n",
       "      <td>0.277540</td>\n",
       "      <td>2.180474</td>\n",
       "      <td>0.000011</td>\n",
       "      <td>-0.053024</td>\n",
       "      <td>1.021678e+11</td>\n",
       "    </tr>\n",
       "  </tbody>\n",
       "</table>\n",
       "</div>"
      ],
      "text/plain": [
       "                   timestamp      open      high       low     close  \\\n",
       "0  2025-06-03 00:00:00+00:00  0.000011  0.000013  0.000009  0.000011   \n",
       "1  2025-06-02 00:00:00+00:00  0.000010  0.000010  0.000008  0.000010   \n",
       "2  2025-06-01 00:00:00+00:00  0.000009  0.000011  0.000008  0.000009   \n",
       "3  2025-05-31 00:00:00+00:00  0.000008  0.000010  0.000008  0.000008   \n",
       "4  2025-05-30 00:00:00+00:00  0.000011  0.000014  0.000010  0.000010   \n",
       "\n",
       "         volume  trades    return  log_return  cumulative_return  \\\n",
       "0  6.366919e+05     846  0.349073    0.299418           0.349073   \n",
       "1  8.964993e+05    1061 -0.100059   -0.105426           0.214086   \n",
       "2  8.541279e+05    1111 -0.028473   -0.028886           0.179518   \n",
       "3  7.953648e+05    1057 -0.114713   -0.121844           0.044211   \n",
       "4  1.030002e+06    1136  0.223450    0.201675           0.277540   \n",
       "\n",
       "   sharpe_ratio   cum_max  drawdown      turnover  \n",
       "0      2.180474  0.000011  0.000000  5.980594e+10  \n",
       "1      2.180474  0.000011 -0.100059  9.357307e+10  \n",
       "2      2.180474  0.000011 -0.125683  9.176329e+10  \n",
       "3      2.180474  0.000011 -0.225979  9.652249e+10  \n",
       "4      2.180474  0.000011 -0.053024  1.021678e+11  "
      ]
     },
     "execution_count": 6,
     "metadata": {},
     "output_type": "execute_result"
    }
   ],
   "source": [
    "df.head()"
   ]
  },
  {
   "cell_type": "code",
   "execution_count": 5,
   "id": "2b5d2999",
   "metadata": {},
   "outputs": [
    {
     "data": {
      "text/plain": [
       "(27, 14)"
      ]
     },
     "execution_count": 5,
     "metadata": {},
     "output_type": "execute_result"
    }
   ],
   "source": [
    "df.shape"
   ]
  },
  {
   "cell_type": "code",
   "execution_count": null,
   "id": "a6f9fab4",
   "metadata": {},
   "outputs": [],
   "source": []
  }
 ],
 "metadata": {
  "kernelspec": {
   "display_name": "base",
   "language": "python",
   "name": "python3"
  },
  "language_info": {
   "codemirror_mode": {
    "name": "ipython",
    "version": 3
   },
   "file_extension": ".py",
   "mimetype": "text/x-python",
   "name": "python",
   "nbconvert_exporter": "python",
   "pygments_lexer": "ipython3",
   "version": "3.12.4"
  }
 },
 "nbformat": 4,
 "nbformat_minor": 5
}
