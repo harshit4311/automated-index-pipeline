{
 "cells": [
  {
   "cell_type": "code",
   "execution_count": 1,
   "id": "ddf7bcc7",
   "metadata": {},
   "outputs": [],
   "source": [
    "import pandas as pd"
   ]
  },
  {
   "cell_type": "code",
   "execution_count": 2,
   "id": "c9b5eb87",
   "metadata": {},
   "outputs": [],
   "source": [
    "df = pd.read_csv('/Users/harshit/Downloads/Research-Commons-Quant/automated-memetoken-index-pipeline/dataframes/jan24/PORK.csv')"
   ]
  },
  {
   "cell_type": "code",
   "execution_count": 3,
   "id": "450170d3",
   "metadata": {},
   "outputs": [
    {
     "data": {
      "text/html": [
       "<div>\n",
       "<style scoped>\n",
       "    .dataframe tbody tr th:only-of-type {\n",
       "        vertical-align: middle;\n",
       "    }\n",
       "\n",
       "    .dataframe tbody tr th {\n",
       "        vertical-align: top;\n",
       "    }\n",
       "\n",
       "    .dataframe thead th {\n",
       "        text-align: right;\n",
       "    }\n",
       "</style>\n",
       "<table border=\"1\" class=\"dataframe\">\n",
       "  <thead>\n",
       "    <tr style=\"text-align: right;\">\n",
       "      <th></th>\n",
       "      <th>timestamp</th>\n",
       "      <th>open</th>\n",
       "      <th>high</th>\n",
       "      <th>low</th>\n",
       "      <th>close</th>\n",
       "      <th>volume</th>\n",
       "      <th>trades</th>\n",
       "      <th>return</th>\n",
       "      <th>log_return</th>\n",
       "      <th>cumulative_return</th>\n",
       "      <th>sharpe_ratio</th>\n",
       "      <th>cum_max</th>\n",
       "      <th>drawdown</th>\n",
       "      <th>turnover</th>\n",
       "    </tr>\n",
       "  </thead>\n",
       "  <tbody>\n",
       "    <tr>\n",
       "      <th>0</th>\n",
       "      <td>2025-06-03 00:00:00+00:00</td>\n",
       "      <td>2.023387e-08</td>\n",
       "      <td>2.296991e-08</td>\n",
       "      <td>1.775935e-08</td>\n",
       "      <td>2.107030e-08</td>\n",
       "      <td>40002.523636</td>\n",
       "      <td>136</td>\n",
       "      <td>-0.008547</td>\n",
       "      <td>-0.008584</td>\n",
       "      <td>-0.008547</td>\n",
       "      <td>2.004554</td>\n",
       "      <td>2.125195e-08</td>\n",
       "      <td>-0.008547</td>\n",
       "      <td>1.898526e+12</td>\n",
       "    </tr>\n",
       "    <tr>\n",
       "      <th>1</th>\n",
       "      <td>2025-06-02 00:00:00+00:00</td>\n",
       "      <td>2.217172e-08</td>\n",
       "      <td>2.238987e-08</td>\n",
       "      <td>1.819671e-08</td>\n",
       "      <td>2.230909e-08</td>\n",
       "      <td>40846.749013</td>\n",
       "      <td>142</td>\n",
       "      <td>0.058793</td>\n",
       "      <td>0.057130</td>\n",
       "      <td>0.049743</td>\n",
       "      <td>2.004554</td>\n",
       "      <td>2.230909e-08</td>\n",
       "      <td>0.000000</td>\n",
       "      <td>1.830946e+12</td>\n",
       "    </tr>\n",
       "    <tr>\n",
       "      <th>2</th>\n",
       "      <td>2025-06-01 00:00:00+00:00</td>\n",
       "      <td>2.096026e-08</td>\n",
       "      <td>2.306513e-08</td>\n",
       "      <td>2.007736e-08</td>\n",
       "      <td>2.215413e-08</td>\n",
       "      <td>15910.582854</td>\n",
       "      <td>82</td>\n",
       "      <td>-0.006946</td>\n",
       "      <td>-0.006971</td>\n",
       "      <td>0.042452</td>\n",
       "      <td>2.004554</td>\n",
       "      <td>2.230909e-08</td>\n",
       "      <td>-0.006946</td>\n",
       "      <td>7.181769e+11</td>\n",
       "    </tr>\n",
       "    <tr>\n",
       "      <th>3</th>\n",
       "      <td>2025-05-31 00:00:00+00:00</td>\n",
       "      <td>2.292818e-08</td>\n",
       "      <td>2.316419e-08</td>\n",
       "      <td>1.881831e-08</td>\n",
       "      <td>2.232551e-08</td>\n",
       "      <td>14970.167571</td>\n",
       "      <td>91</td>\n",
       "      <td>0.007736</td>\n",
       "      <td>0.007706</td>\n",
       "      <td>0.050516</td>\n",
       "      <td>2.004554</td>\n",
       "      <td>2.232551e-08</td>\n",
       "      <td>0.000000</td>\n",
       "      <td>6.705410e+11</td>\n",
       "    </tr>\n",
       "    <tr>\n",
       "      <th>4</th>\n",
       "      <td>2025-05-30 00:00:00+00:00</td>\n",
       "      <td>2.335677e-08</td>\n",
       "      <td>2.443357e-08</td>\n",
       "      <td>2.277067e-08</td>\n",
       "      <td>2.319285e-08</td>\n",
       "      <td>17091.151050</td>\n",
       "      <td>114</td>\n",
       "      <td>0.038850</td>\n",
       "      <td>0.038114</td>\n",
       "      <td>0.091328</td>\n",
       "      <td>2.004554</td>\n",
       "      <td>2.319285e-08</td>\n",
       "      <td>0.000000</td>\n",
       "      <td>7.369146e+11</td>\n",
       "    </tr>\n",
       "  </tbody>\n",
       "</table>\n",
       "</div>"
      ],
      "text/plain": [
       "                   timestamp          open          high           low  \\\n",
       "0  2025-06-03 00:00:00+00:00  2.023387e-08  2.296991e-08  1.775935e-08   \n",
       "1  2025-06-02 00:00:00+00:00  2.217172e-08  2.238987e-08  1.819671e-08   \n",
       "2  2025-06-01 00:00:00+00:00  2.096026e-08  2.306513e-08  2.007736e-08   \n",
       "3  2025-05-31 00:00:00+00:00  2.292818e-08  2.316419e-08  1.881831e-08   \n",
       "4  2025-05-30 00:00:00+00:00  2.335677e-08  2.443357e-08  2.277067e-08   \n",
       "\n",
       "          close        volume  trades    return  log_return  \\\n",
       "0  2.107030e-08  40002.523636     136 -0.008547   -0.008584   \n",
       "1  2.230909e-08  40846.749013     142  0.058793    0.057130   \n",
       "2  2.215413e-08  15910.582854      82 -0.006946   -0.006971   \n",
       "3  2.232551e-08  14970.167571      91  0.007736    0.007706   \n",
       "4  2.319285e-08  17091.151050     114  0.038850    0.038114   \n",
       "\n",
       "   cumulative_return  sharpe_ratio       cum_max  drawdown      turnover  \n",
       "0          -0.008547      2.004554  2.125195e-08 -0.008547  1.898526e+12  \n",
       "1           0.049743      2.004554  2.230909e-08  0.000000  1.830946e+12  \n",
       "2           0.042452      2.004554  2.230909e-08 -0.006946  7.181769e+11  \n",
       "3           0.050516      2.004554  2.232551e-08  0.000000  6.705410e+11  \n",
       "4           0.091328      2.004554  2.319285e-08  0.000000  7.369146e+11  "
      ]
     },
     "execution_count": 3,
     "metadata": {},
     "output_type": "execute_result"
    }
   ],
   "source": [
    "df.head()"
   ]
  },
  {
   "cell_type": "code",
   "execution_count": 4,
   "id": "2b5d2999",
   "metadata": {},
   "outputs": [
    {
     "data": {
      "text/plain": [
       "(399, 14)"
      ]
     },
     "execution_count": 4,
     "metadata": {},
     "output_type": "execute_result"
    }
   ],
   "source": [
    "df.shape"
   ]
  },
  {
   "cell_type": "code",
   "execution_count": null,
   "id": "a6f9fab4",
   "metadata": {},
   "outputs": [],
   "source": []
  }
 ],
 "metadata": {
  "kernelspec": {
   "display_name": "base",
   "language": "python",
   "name": "python3"
  },
  "language_info": {
   "codemirror_mode": {
    "name": "ipython",
    "version": 3
   },
   "file_extension": ".py",
   "mimetype": "text/x-python",
   "name": "python",
   "nbconvert_exporter": "python",
   "pygments_lexer": "ipython3",
   "version": "3.12.4"
  }
 },
 "nbformat": 4,
 "nbformat_minor": 5
}
