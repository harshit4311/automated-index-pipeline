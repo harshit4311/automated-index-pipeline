{
 "cells": [
  {
   "cell_type": "code",
   "execution_count": 2,
   "id": "3e70b3d6",
   "metadata": {},
   "outputs": [],
   "source": [
    "import pandas as pd\n",
    "import numpy as np\n",
    "import glob\n",
    "import matplotlib.pyplot as plt\n",
    "import os"
   ]
  },
  {
   "cell_type": "code",
   "execution_count": 31,
   "id": "fcded4ec",
   "metadata": {},
   "outputs": [],
   "source": [
    "BASE_PATH = \"/Users/harshit/Downloads/Research-Commons-Quant/automated-memetoken-index-pipeline/dataframes\"\n",
    "MONTHS = [\"may23\", \"jun23\", \"jul23\", \"aug23\"]  "
   ]
  },
  {
   "cell_type": "code",
   "execution_count": 32,
   "id": "a6eaa6ae",
   "metadata": {},
   "outputs": [
    {
     "name": "stdout",
     "output_type": "stream",
     "text": [
      "✅ Loaded may23: 5 tokens, 229 days\n",
      "✅ Loaded jun23: 5 tokens, 47 days\n",
      "✅ Loaded jul23: 5 tokens, 377 days\n",
      "✅ Loaded aug23: 5 tokens, 22 days\n"
     ]
    }
   ],
   "source": [
    "monthly_token_data = {}\n",
    "\n",
    "for month in MONTHS:\n",
    "    files = glob.glob(f\"{BASE_PATH}/{month}/*.csv\")\n",
    "    month_prices = {}\n",
    "    month_volumes = {}\n",
    "\n",
    "    for file in files:\n",
    "        token = os.path.basename(file).replace(\".csv\", \"\")\n",
    "        try:\n",
    "            df = pd.read_csv(file)\n",
    "            df.columns = df.columns.str.lower()\n",
    "            if 'close' not in df.columns or 'volume' not in df.columns:\n",
    "                continue\n",
    "\n",
    "            df = df.sort_values(by='timestamp').reset_index(drop=True)\n",
    "            df['days_since_launch'] = df.index\n",
    "            month_prices[token] = df[['days_since_launch', 'close']].set_index('days_since_launch').rename(columns={'close': token})\n",
    "            month_volumes[token] = df[['days_since_launch', 'volume']].set_index('days_since_launch').rename(columns={'volume': token})\n",
    "        except Exception as e:\n",
    "            print(f\"⚠️ Error in {token}: {e}\")\n",
    "\n",
    "    if month_prices and month_volumes:\n",
    "        aligned_prices = pd.concat(month_prices.values(), axis=1, join='inner')\n",
    "        aligned_volumes = pd.concat(month_volumes.values(), axis=1, join='inner')\n",
    "\n",
    "        monthly_token_data[month] = {\n",
    "            \"prices\": aligned_prices,\n",
    "            \"volumes\": aligned_volumes\n",
    "        }\n",
    "\n",
    "        print(f\"✅ Loaded {month}: {aligned_prices.shape[1]} tokens, {aligned_prices.shape[0]} days\")\n",
    "    else:\n",
    "        print(f\"❌ Skipped {month}: No valid token data found\")\n"
   ]
  },
  {
   "cell_type": "code",
   "execution_count": null,
   "id": "6da73023",
   "metadata": {},
   "outputs": [],
   "source": []
  }
 ],
 "metadata": {
  "kernelspec": {
   "display_name": "base",
   "language": "python",
   "name": "python3"
  },
  "language_info": {
   "codemirror_mode": {
    "name": "ipython",
    "version": 3
   },
   "file_extension": ".py",
   "mimetype": "text/x-python",
   "name": "python",
   "nbconvert_exporter": "python",
   "pygments_lexer": "ipython3",
   "version": "3.12.4"
  }
 },
 "nbformat": 4,
 "nbformat_minor": 5
}
